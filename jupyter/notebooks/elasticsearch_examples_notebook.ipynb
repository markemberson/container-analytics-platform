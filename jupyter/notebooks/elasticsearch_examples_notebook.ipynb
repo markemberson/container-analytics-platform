{
 "cells": [
  {
   "cell_type": "code",
   "execution_count": 1,
   "metadata": {},
   "outputs": [],
   "source": [
    "from elasticsearch import Elasticsearch, helpers\n",
    "from faker import Faker\n",
    "from random import choice, randint\n",
    "from hashlib import sha1"
   ]
  },
  {
   "cell_type": "code",
   "execution_count": 2,
   "metadata": {},
   "outputs": [],
   "source": [
    "client = Elasticsearch(\"http://elasticsearch:9200\")"
   ]
  },
  {
   "cell_type": "code",
   "execution_count": 3,
   "metadata": {},
   "outputs": [
    {
     "name": "stderr",
     "output_type": "stream",
     "text": [
      "/tmp/ipykernel_298/3102827968.py:1: ElasticsearchWarning: Elasticsearch built-in security features are not enabled. Without authentication, your cluster could be accessible to anyone. See https://www.elastic.co/guide/en/elasticsearch/reference/7.17/security-minimal-setup.html to enable security.\n",
      "  client.indices.exists(index=\"test_data\")\n"
     ]
    },
    {
     "data": {
      "text/plain": [
       "HeadApiResponse(False)"
      ]
     },
     "execution_count": 3,
     "metadata": {},
     "output_type": "execute_result"
    }
   ],
   "source": [
    "client.indices.exists(index=\"test_data\")"
   ]
  },
  {
   "cell_type": "code",
   "execution_count": 4,
   "metadata": {},
   "outputs": [],
   "source": [
    "def flip_coin():\n",
    "    return randint(0,1)"
   ]
  },
  {
   "cell_type": "code",
   "execution_count": 5,
   "metadata": {},
   "outputs": [],
   "source": [
    "fake = Faker()"
   ]
  },
  {
   "cell_type": "code",
   "execution_count": 6,
   "metadata": {},
   "outputs": [],
   "source": [
    "data = []\n",
    "for i in range(10000):\n",
    "    person = {}\n",
    "    # Flipping a coin to determine whether or not to entering value for a field creates some null fields, common in document dbs.\n",
    "    if flip_coin():\n",
    "        person[\"name\"] = fake.name()\n",
    "    if flip_coin():\n",
    "        person[\"age\"] = randint(1,99)\n",
    "    if flip_coin():\n",
    "        person[\"address\"] = fake.address()\n",
    "    if flip_coin():\n",
    "        person[\"phone\"] = fake.phone_number()\n",
    "    if person:\n",
    "        data.append(person)"
   ]
  },
  {
   "cell_type": "code",
   "execution_count": 7,
   "metadata": {},
   "outputs": [
    {
     "data": {
      "text/plain": [
       "{'name': 'Charles Navarro',\n",
       " 'age': 46,\n",
       " 'address': '9989 Brian Field\\nWest Michael, FL 83529',\n",
       " 'phone': '335-665-3761x662'}"
      ]
     },
     "execution_count": 7,
     "metadata": {},
     "output_type": "execute_result"
    }
   ],
   "source": [
    "data[0]"
   ]
  },
  {
   "cell_type": "code",
   "execution_count": 8,
   "metadata": {},
   "outputs": [],
   "source": [
    "def create_bulk_data(data, index_name):\n",
    "    for d in data:\n",
    "        yield {\n",
    "            \"_index\":index_name,\n",
    "            \"_type\":\"_doc\",\n",
    "            \"_id\":sha1(str(d).encode(\"utf8\")).hexdigest(),\n",
    "            \"_source\":d\n",
    "        }"
   ]
  },
  {
   "cell_type": "code",
   "execution_count": 9,
   "metadata": {},
   "outputs": [],
   "source": [
    "bulk_data = create_bulk_data(data, \"test_data\")"
   ]
  },
  {
   "cell_type": "code",
   "execution_count": 10,
   "metadata": {},
   "outputs": [
    {
     "name": "stderr",
     "output_type": "stream",
     "text": [
      "/tmp/ipykernel_298/3845731093.py:1: ElasticsearchWarning: Elasticsearch built-in security features are not enabled. Without authentication, your cluster could be accessible to anyone. See https://www.elastic.co/guide/en/elasticsearch/reference/7.17/security-minimal-setup.html to enable security.\n",
      "  res = helpers.bulk(client,bulk_data,stats_only=False, raise_on_error=False)\n",
      "/tmp/ipykernel_298/3845731093.py:1: ElasticsearchWarning: [types removal] Specifying types in bulk requests is deprecated.\n",
      "  res = helpers.bulk(client,bulk_data,stats_only=False, raise_on_error=False)\n"
     ]
    }
   ],
   "source": [
    "res = helpers.bulk(client,bulk_data,stats_only=False, raise_on_error=False)"
   ]
  },
  {
   "cell_type": "code",
   "execution_count": 11,
   "metadata": {},
   "outputs": [
    {
     "data": {
      "text/plain": [
       "(9359, [])"
      ]
     },
     "execution_count": 11,
     "metadata": {},
     "output_type": "execute_result"
    }
   ],
   "source": [
    "res"
   ]
  },
  {
   "cell_type": "code",
   "execution_count": null,
   "metadata": {},
   "outputs": [],
   "source": []
  }
 ],
 "metadata": {
  "kernelspec": {
   "display_name": "Python 3 (ipykernel)",
   "language": "python",
   "name": "python3"
  },
  "language_info": {
   "codemirror_mode": {
    "name": "ipython",
    "version": 3
   },
   "file_extension": ".py",
   "mimetype": "text/x-python",
   "name": "python",
   "nbconvert_exporter": "python",
   "pygments_lexer": "ipython3",
   "version": "3.11.0"
  }
 },
 "nbformat": 4,
 "nbformat_minor": 4
}
