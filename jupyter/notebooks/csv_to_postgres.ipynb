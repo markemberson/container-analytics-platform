{
 "cells": [
  {
   "cell_type": "code",
   "execution_count": 1,
   "id": "090aa8c7-4605-4ff1-974c-5bdb59919340",
   "metadata": {},
   "outputs": [],
   "source": [
    "import sqlalchemy\n",
    "import pandas as pd"
   ]
  },
  {
   "cell_type": "markdown",
   "id": "90da6d3a-cf78-4635-b949-50b65c3c7f10",
   "metadata": {},
   "source": [
    "## Set Up PG Connection"
   ]
  },
  {
   "cell_type": "code",
   "execution_count": 2,
   "id": "d3da0e0a-c04f-4ee9-b992-2ee70824750f",
   "metadata": {},
   "outputs": [],
   "source": [
    "pg_username = \"postgres\"\n",
    "pg_password = \"postgres\"\n",
    "pg_database = \"postgres\"\n",
    "pg_host = \"postgres\" #this is the docker service name\n",
    "pg_port = 5432"
   ]
  },
  {
   "cell_type": "code",
   "execution_count": 3,
   "id": "7d0563d5-b09f-466c-994b-a1bee7594865",
   "metadata": {},
   "outputs": [],
   "source": [
    "engine = sqlalchemy.create_engine(f\"postgresql+psycopg2://{pg_username}:{pg_password}@{pg_host}:{pg_port}/{pg_database}\")"
   ]
  },
  {
   "cell_type": "markdown",
   "id": "9fd7d3a8-c805-4279-b6a9-2a34f59cceab",
   "metadata": {},
   "source": [
    "## Read in CSV and Write to Postgres"
   ]
  },
  {
   "cell_type": "code",
   "execution_count": 4,
   "id": "f9db2c97-f677-420f-ae8a-1b5ab14ca456",
   "metadata": {},
   "outputs": [],
   "source": [
    "df = pd.read_csv(\"/data/appl_stock.csv\")"
   ]
  },
  {
   "cell_type": "code",
   "execution_count": 5,
   "id": "1aa09420-44aa-4a4f-8bab-4d56f9905eaf",
   "metadata": {},
   "outputs": [
    {
     "data": {
      "text/plain": [
       "762"
      ]
     },
     "execution_count": 5,
     "metadata": {},
     "output_type": "execute_result"
    }
   ],
   "source": [
    "df.to_sql(name=\"appl_stock\", con=engine, if_exists=\"replace\")"
   ]
  },
  {
   "cell_type": "markdown",
   "id": "f417b746-fb45-4b8c-9ea0-8613230f17a2",
   "metadata": {},
   "source": [
    "## Read Data Back in To Confirm It's In PG"
   ]
  },
  {
   "cell_type": "code",
   "execution_count": 6,
   "id": "eed74346-71c8-49ee-a6ed-613f818df498",
   "metadata": {},
   "outputs": [
    {
     "name": "stderr",
     "output_type": "stream",
     "text": [
      "/tmp/ipykernel_321/3554185493.py:2: RemovedIn20Warning: Deprecated API features detected! These feature(s) are not compatible with SQLAlchemy 2.0. To prevent incompatible upgrades prior to updating applications, ensure requirements files are pinned to \"sqlalchemy<2.0\". Set environment variable SQLALCHEMY_WARN_20=1 to show all deprecation warnings.  Set environment variable SQLALCHEMY_SILENCE_UBER_WARNING=1 to silence this message. (Background on SQLAlchemy 2.0 at: https://sqlalche.me/e/b8d9)\n",
      "  res = conn.execute(\"SELECT * FROM appl_stock LIMIT 10\")\n"
     ]
    }
   ],
   "source": [
    "with engine.connect() as conn:\n",
    "    res = conn.execute(\"SELECT * FROM appl_stock LIMIT 10\")"
   ]
  },
  {
   "cell_type": "code",
   "execution_count": 7,
   "id": "cc7a1bd8-f6d2-4b5f-8fbb-b2b28094488a",
   "metadata": {},
   "outputs": [
    {
     "name": "stdout",
     "output_type": "stream",
     "text": [
      "(0, '2010-01-04', 213.429998, 214.499996, 212.380001, 214.009998, 123432400, 27.727039)\n",
      "(1, '2010-01-05', 214.599998, 215.589994, 213.249994, 214.379993, 150476200, 27.774976)\n",
      "(2, '2010-01-06', 214.379993, 215.23, 210.750004, 210.969995, 138040000, 27.333178000000004)\n",
      "(3, '2010-01-07', 211.75, 212.000006, 209.050005, 210.58, 119282800, 27.28265)\n",
      "(4, '2010-01-08', 210.299994, 212.000006, 209.060005, 211.980005, 111902700, 27.464034)\n",
      "(5, '2010-01-11', 212.799997, 213.000002, 208.450005, 210.110003, 115557400, 27.221758)\n",
      "(6, '2010-01-12', 209.189995, 209.769995, 206.419998, 207.720001, 148614900, 26.91211)\n",
      "(7, '2010-01-13', 207.870005, 210.929995, 204.099998, 210.650002, 151473000, 27.29172)\n",
      "(8, '2010-01-14', 210.110003, 210.459997, 209.020004, 209.43, 108223500, 27.133657)\n",
      "(9, '2010-01-15', 210.929995, 211.59999700000003, 205.869999, 205.93, 148516900, 26.680198)\n"
     ]
    }
   ],
   "source": [
    "for row in res:\n",
    "    print(row)"
   ]
  },
  {
   "cell_type": "code",
   "execution_count": null,
   "id": "9cefc789-48d2-497f-8de9-aac31ebb3cdb",
   "metadata": {},
   "outputs": [],
   "source": []
  }
 ],
 "metadata": {
  "kernelspec": {
   "display_name": "Python 3 (ipykernel)",
   "language": "python",
   "name": "python3"
  },
  "language_info": {
   "codemirror_mode": {
    "name": "ipython",
    "version": 3
   },
   "file_extension": ".py",
   "mimetype": "text/x-python",
   "name": "python",
   "nbconvert_exporter": "python",
   "pygments_lexer": "ipython3",
   "version": "3.11.0"
  }
 },
 "nbformat": 4,
 "nbformat_minor": 5
}
