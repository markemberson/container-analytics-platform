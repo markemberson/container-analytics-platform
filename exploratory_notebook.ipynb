{
 "cells": [
  {
   "cell_type": "markdown",
   "id": "13298f28-8c7a-4786-b0f4-d464b96bb538",
   "metadata": {},
   "source": [
    "# Testing Notebook"
   ]
  },
  {
   "cell_type": "markdown",
   "id": "143948ab-5bb5-4a80-b965-f9b939531c53",
   "metadata": {},
   "source": [
    "This notebook is for development purposes and includes examples for interacting with Trino through pyhive."
   ]
  },
  {
   "cell_type": "code",
   "execution_count": 73,
   "id": "67bae8e6-4dce-4749-8bc6-f815ae42f45b",
   "metadata": {},
   "outputs": [],
   "source": [
    "from pyhive import trino\n",
    "from typing import List\n",
    "from pydantic import create_model"
   ]
  },
  {
   "cell_type": "code",
   "execution_count": 15,
   "id": "9b1ecf2a-18d9-49b1-8050-da16ec696952",
   "metadata": {},
   "outputs": [],
   "source": [
    "def get_conn():\n",
    "    return trino.connect('localhost')\n",
    "def get_cursor():\n",
    "    return get_conn().cursor()"
   ]
  },
  {
   "cell_type": "code",
   "execution_count": 47,
   "id": "8c3dee7f-6c40-4675-8896-277f9c44df7c",
   "metadata": {
    "tags": []
   },
   "outputs": [],
   "source": [
    "cursor = get_cursor()"
   ]
  },
  {
   "cell_type": "markdown",
   "id": "b972aefe-d72c-4ecb-877e-6cd29b3ea560",
   "metadata": {},
   "source": [
    "## Database Introspection"
   ]
  },
  {
   "cell_type": "code",
   "execution_count": 48,
   "id": "932eb42b-fc6d-45f4-9a43-5e1871a24c19",
   "metadata": {},
   "outputs": [],
   "source": [
    "# Get Schemas\n",
    "def get_schemas(exclude: List[str] = None) -> List[str]:\n",
    "    \n",
    "    query_string = \"SHOW SCHEMAS\"\n",
    "    cursor.execute(query_string) \n",
    "    schemas = [row[0] for row in cursor.fetchall()]\n",
    "    if exclude is not None:\n",
    "        schemas = [s for s in schemas if s not in exclude]\n",
    "    return schemas"
   ]
  },
  {
   "cell_type": "code",
   "execution_count": 59,
   "id": "ba3a154f-0391-4738-87f4-a7469a380415",
   "metadata": {},
   "outputs": [],
   "source": [
    "def get_tables_in_schema(schema: str, exclude: List[str] = None) -> List[str]:\n",
    "    \n",
    "    query_string = f\"SHOW TABLES IN {schema}\"\n",
    "    cursor.execute(query_string) \n",
    "    tables = [row[0] for row in cursor.fetchall()]\n",
    "    if exclude is not None:\n",
    "        tables = [t for t in tables if t not in exclude]\n",
    "    return tables"
   ]
  },
  {
   "cell_type": "code",
   "execution_count": 74,
   "id": "a9d8aa9b-f6a4-4589-becb-2a26b7ef2596",
   "metadata": {},
   "outputs": [],
   "source": [
    "def get_cols_in_table(schema:str, table: str) -> dict:\n",
    "    \n",
    "    type_mapper = {\n",
    "        'bigint':int,\n",
    "        'timestamp(3)': str,\n",
    "        'double': float,\n",
    "        'varchar': str\n",
    "    }\n",
    "    \n",
    "    query_string = f\"DESC {schema}.{table}\"\n",
    "    cursor.execute(query_string)\n",
    "    res = cursor.fetchall()\n",
    "    col_names = [row[0] for row in res]\n",
    "    col_types = [type_mapper[row[1]] for row in res]\n",
    "    return dict(zip(col_names, col_types))"
   ]
  },
  {
   "cell_type": "code",
   "execution_count": 75,
   "id": "513bef11-df77-413c-a378-0f6ecf58bebc",
   "metadata": {},
   "outputs": [],
   "source": [
    "def get_schema_structure(schema:str) -> dict:\n",
    "    \n",
    "    schema_structure = {}\n",
    "    tables = get_tables_in_schema(schema=schema)\n",
    "    for table in tables:\n",
    "        schema_structure[table] = get_cols_in_table(schema=schema, table=table)\n",
    "    return schema_structure"
   ]
  },
  {
   "cell_type": "code",
   "execution_count": 76,
   "id": "770e25e7-9956-42fc-b0db-ccd24cbeed6b",
   "metadata": {},
   "outputs": [],
   "source": [
    "def get_db_structure(exclude_schemas: List[str] = None) -> dict:\n",
    "    \n",
    "    db_structure = {}\n",
    "    schemas = get_schemas(exclude = exclude_schemas)\n",
    "    for schema in schemas:\n",
    "        db_structure[schema] = get_schema_structure(schema=schema)\n",
    "    return db_structure"
   ]
  },
  {
   "cell_type": "code",
   "execution_count": 77,
   "id": "5d8d1922-3f93-4bba-8853-ec697a2e85b9",
   "metadata": {},
   "outputs": [],
   "source": [
    "db_structure = get_db_structure(exclude_schemas=[\"information_schema\"])"
   ]
  },
  {
   "cell_type": "code",
   "execution_count": 78,
   "id": "0879a9cc-3821-4af8-987d-579851d4463f",
   "metadata": {},
   "outputs": [
    {
     "data": {
      "text/plain": [
       "{'default': {},\n",
       " 'taxi': {'trips': {'vendorid': int,\n",
       "   'tpep_pickup_datetime': str,\n",
       "   'tpep_dropoff_datetime': str,\n",
       "   'passenger_count': float,\n",
       "   'trip_distance': float,\n",
       "   'pulocationid': int,\n",
       "   'dolocationid': int,\n",
       "   'ratecodeid': float,\n",
       "   'store_and_fwd_flag': str,\n",
       "   'dropoff_longitude': float,\n",
       "   'dropoff_latitude': float,\n",
       "   'payment_type': int,\n",
       "   'fare_amount': float,\n",
       "   'improvement_surcharge': float,\n",
       "   'congestion_surcharge': float,\n",
       "   'mta_tax': float,\n",
       "   'tip_amount': float,\n",
       "   'tolls_amount': float,\n",
       "   'extra': float,\n",
       "   'airport_fee': float,\n",
       "   'total_amount': float}}}"
      ]
     },
     "execution_count": 78,
     "metadata": {},
     "output_type": "execute_result"
    }
   ],
   "source": [
    "db_structure"
   ]
  },
  {
   "cell_type": "code",
   "execution_count": 81,
   "id": "17d7f3a9-3177-4029-99ba-9bcd2753e51f",
   "metadata": {},
   "outputs": [],
   "source": [
    "def generate_api_routes_and_models(db_structure:Dict[str, dict]) ->:\n",
    "    routes_and_models = {}\n",
    "    for schema, tables in db_structure.items():\n",
    "        if tables:\n",
    "            for table, cols in tables.items():\n",
    "                route = f\"/{schema}/{table}\"\n",
    "                model_name = schema[0].upper()+schema[1:].lower()+table[0].upper()+table[1:].lower()\n",
    "                model = create_model(model_name, **cols)\n",
    "                routes_and_models[route] = model\n",
    "    return routes_and_models"
   ]
  },
  {
   "cell_type": "code",
   "execution_count": 87,
   "id": "9f05ae7d-0913-406b-9c8e-8e5ea9a5d915",
   "metadata": {},
   "outputs": [],
   "source": [
    "typ = routes_and_models[\"/taxi/trips\"]"
   ]
  },
  {
   "cell_type": "code",
   "execution_count": 94,
   "id": "cabc4ef6-c9ce-4615-900c-d47ef7cd18f8",
   "metadata": {},
   "outputs": [
    {
     "data": {
      "text/plain": [
       "'TaxiTrips'"
      ]
     },
     "execution_count": 94,
     "metadata": {},
     "output_type": "execute_result"
    }
   ],
   "source": [
    "typ.__name__"
   ]
  },
  {
   "cell_type": "code",
   "execution_count": 68,
   "id": "e0560e8c-c44f-4be3-bdf1-c915d3f991cd",
   "metadata": {},
   "outputs": [],
   "source": [
    "# Get Data\n",
    "query_string = \"\"\"\n",
    "SELECT * FROM taxi.trips LIMIT 10\n",
    "\"\"\""
   ]
  },
  {
   "cell_type": "code",
   "execution_count": 69,
   "id": "58f90648-aac5-4e1d-92c5-d926687b0d32",
   "metadata": {},
   "outputs": [
    {
     "name": "stdout",
     "output_type": "stream",
     "text": [
      "Columns: \n",
      " [('vendorid', 'bigint', None, None, None, None, True), ('tpep_pickup_datetime', 'timestamp', None, None, None, None, True), ('tpep_dropoff_datetime', 'timestamp', None, None, None, None, True), ('passenger_count', 'double', None, None, None, None, True), ('trip_distance', 'double', None, None, None, None, True), ('pulocationid', 'bigint', None, None, None, None, True), ('dolocationid', 'bigint', None, None, None, None, True), ('ratecodeid', 'double', None, None, None, None, True), ('store_and_fwd_flag', 'varchar', None, None, None, None, True), ('dropoff_longitude', 'double', None, None, None, None, True), ('dropoff_latitude', 'double', None, None, None, None, True), ('payment_type', 'bigint', None, None, None, None, True), ('fare_amount', 'double', None, None, None, None, True), ('improvement_surcharge', 'double', None, None, None, None, True), ('congestion_surcharge', 'double', None, None, None, None, True), ('mta_tax', 'double', None, None, None, None, True), ('tip_amount', 'double', None, None, None, None, True), ('tolls_amount', 'double', None, None, None, None, True), ('extra', 'double', None, None, None, None, True), ('airport_fee', 'double', None, None, None, None, True), ('total_amount', 'double', None, None, None, None, True)]\n",
      "Data: \n",
      " [(1, '2022-01-01 00:35:40.000', '2022-01-01 00:53:29.000', 2.0, 3.8, 142, 236, 1.0, 'N', None, None, 1, 14.5, 0.3, 2.5, 0.5, 3.65, 0.0, 3.0, 0.0, 21.95), (1, '2022-01-01 00:33:43.000', '2022-01-01 00:42:07.000', 1.0, 2.1, 236, 42, 1.0, 'N', None, None, 1, 8.0, 0.3, 0.0, 0.5, 4.0, 0.0, 0.5, 0.0, 13.3), (2, '2022-01-01 00:53:21.000', '2022-01-01 01:02:19.000', 1.0, 0.97, 166, 166, 1.0, 'N', None, None, 1, 7.5, 0.3, 0.0, 0.5, 1.76, 0.0, 0.5, 0.0, 10.56), (2, '2022-01-01 00:13:04.000', '2022-01-01 00:22:45.000', 1.0, 2.02, 238, 152, 1.0, 'N', None, None, 2, 9.0, 0.3, 2.5, 0.5, 0.0, 0.0, 0.5, 0.0, 12.8), (2, '2022-01-01 00:30:02.000', '2022-01-01 00:44:49.000', 1.0, 2.71, 166, 236, 1.0, 'N', None, None, 1, 12.0, 0.3, 2.5, 0.5, 2.25, 0.0, 0.5, 0.0, 18.05), (2, '2022-01-01 00:48:52.000', '2022-01-01 00:53:28.000', 1.0, 0.78, 236, 141, 1.0, 'N', None, None, 2, 5.0, 0.3, 2.5, 0.5, 0.0, 0.0, 0.5, 0.0, 8.8), (2, '2022-01-01 00:25:21.000', '2022-01-01 00:35:23.000', 1.0, 1.09, 114, 68, 1.0, 'N', None, None, 2, 8.0, 0.3, 2.5, 0.5, 0.0, 0.0, 0.5, 0.0, 11.8), (2, '2022-01-01 00:36:48.000', '2022-01-01 01:14:20.000', 1.0, 4.3, 68, 163, 1.0, 'N', None, None, 1, 23.5, 0.3, 2.5, 0.5, 3.0, 0.0, 0.5, 0.0, 30.3), (1, '2022-01-01 00:40:15.000', '2022-01-01 01:09:48.000', 1.0, 10.3, 138, 161, 1.0, 'N', None, None, 1, 33.0, 0.3, 2.5, 0.5, 13.0, 6.55, 3.0, 0.0, 56.35), (2, '2022-01-01 00:20:50.000', '2022-01-01 00:34:58.000', 1.0, 5.07, 233, 87, 1.0, 'N', None, None, 1, 17.0, 0.3, 2.5, 0.5, 5.2, 0.0, 0.5, 0.0, 26.0)]\n"
     ]
    }
   ],
   "source": [
    "cursor.execute(query_string)\n",
    "print(\"Columns:\", \"\\n\", cursor.description)\n",
    "print(\"Data:\" , \"\\n\", cursor.fetchall())"
   ]
  },
  {
   "cell_type": "code",
   "execution_count": null,
   "id": "9db46324-0b4a-442e-8dcd-e9625e6afcdd",
   "metadata": {},
   "outputs": [],
   "source": []
  }
 ],
 "metadata": {
  "kernelspec": {
   "display_name": "Python 3 (ipykernel)",
   "language": "python",
   "name": "python3"
  },
  "language_info": {
   "codemirror_mode": {
    "name": "ipython",
    "version": 3
   },
   "file_extension": ".py",
   "mimetype": "text/x-python",
   "name": "python",
   "nbconvert_exporter": "python",
   "pygments_lexer": "ipython3",
   "version": "3.8.10"
  }
 },
 "nbformat": 4,
 "nbformat_minor": 5
}
