{
 "cells": [
  {
   "cell_type": "code",
   "execution_count": 1,
   "id": "df68cc7d-3bf9-4072-8cbe-8ac5434b5c49",
   "metadata": {
    "tags": []
   },
   "outputs": [],
   "source": [
    "import great_expectations as gx\n",
    "from great_expectations.core.batch import BatchRequest, RuntimeBatchRequest\n",
    "from ruamel import yaml"
   ]
  },
  {
   "cell_type": "code",
   "execution_count": 2,
   "id": "eb0cbe41-a414-42d1-9b2a-9f4afc16ad12",
   "metadata": {
    "tags": []
   },
   "outputs": [],
   "source": [
    "context = gx.get_context()"
   ]
  },
  {
   "cell_type": "code",
   "execution_count": 3,
   "id": "0fcdbbd8-cb06-441a-a5ee-485c084cb050",
   "metadata": {
    "tags": []
   },
   "outputs": [],
   "source": [
    "config = \"\"\"\n",
    "name: trino_datasource\n",
    "class_name: Datasource\n",
    "execution_engine:\n",
    "  class_name: SqlAlchemyExecutionEngine\n",
    "  connection_string: trino://trino@trino:8080/delta/my_schema\n",
    "data_connectors:\n",
    "   default_runtime_data_connector_name:\n",
    "       class_name: RuntimeDataConnector\n",
    "       batch_identifiers:\n",
    "           - default_identifier_name\n",
    "   default_inferred_data_connector_name:\n",
    "       class_name: InferredAssetSqlDataConnector\n",
    "       include_schema_name: true\n",
    "\"\"\""
   ]
  },
  {
   "cell_type": "code",
   "execution_count": 4,
   "id": "a55c25ab-132b-4a92-a96d-6b3571d39693",
   "metadata": {
    "tags": []
   },
   "outputs": [
    {
     "name": "stdout",
     "output_type": "stream",
     "text": [
      "Attempting to instantiate class from config...\n",
      "\tInstantiating as a Datasource, since class_name is Datasource\n",
      "\tSuccessfully instantiated Datasource\n",
      "\n",
      "\n",
      "ExecutionEngine class name: SqlAlchemyExecutionEngine\n",
      "Data Connectors:\n",
      "\tdefault_inferred_data_connector_name : InferredAssetSqlDataConnector\n",
      "\n",
      "\tAvailable data_asset_names (1 of 1):\n",
      "\t\tmy_schema.appl_stock_delta_table (1 of 1): [{}]\n",
      "\n",
      "\tUnmatched data_references (0 of 0):[]\n",
      "\n",
      "\tdefault_runtime_data_connector_name:RuntimeDataConnector\n",
      "\n",
      "\tAvailable data_asset_names (0 of 0):\n",
      "\t\tNote : RuntimeDataConnector will not have data_asset_names until they are passed in through RuntimeBatchRequest\n",
      "\n",
      "\tUnmatched data_references (0 of 0): []\n",
      "\n"
     ]
    },
    {
     "data": {
      "text/plain": [
       "<great_expectations.datasource.new_datasource.Datasource at 0x7f7567a93a90>"
      ]
     },
     "execution_count": 4,
     "metadata": {},
     "output_type": "execute_result"
    }
   ],
   "source": [
    "context.test_yaml_config(config)"
   ]
  },
  {
   "cell_type": "code",
   "execution_count": 5,
   "id": "e3016935-af03-4e1d-8e3b-0216a8a37980",
   "metadata": {
    "tags": []
   },
   "outputs": [
    {
     "data": {
      "text/plain": [
       "<great_expectations.datasource.new_datasource.Datasource at 0x7f75683ea690>"
      ]
     },
     "execution_count": 5,
     "metadata": {},
     "output_type": "execute_result"
    }
   ],
   "source": [
    "context.add_datasource(**yaml.load(config))"
   ]
  },
  {
   "cell_type": "code",
   "execution_count": 6,
   "id": "19ae9a87-42e8-4807-be38-9e59278c2b25",
   "metadata": {
    "tags": []
   },
   "outputs": [
    {
     "data": {
      "text/plain": [
       "{'default_runtime_data_connector_name': [],\n",
       " 'default_inferred_data_connector_name': ['my_schema.appl_stock_delta_table']}"
      ]
     },
     "execution_count": 6,
     "metadata": {},
     "output_type": "execute_result"
    }
   ],
   "source": [
    "trino = context.get_datasource(\"trino_datasource\")\n",
    "\n",
    "trino.get_available_data_asset_names()"
   ]
  },
  {
   "cell_type": "code",
   "execution_count": 7,
   "id": "24887e96-b715-4ed5-a6ff-3af6f9a1fc3b",
   "metadata": {
    "tags": []
   },
   "outputs": [],
   "source": [
    "batch_request = BatchRequest(\n",
    "    datasource_name=\"trino_datasource\",\n",
    "    data_connector_name=\"default_inferred_data_connector_name\",\n",
    "    data_asset_name=\"my_schema.appl_stock_delta_table\",  # this is the name of the table you want to retrieve\n",
    ")\n",
    "context.create_expectation_suite(\n",
    "    expectation_suite_name=\"test_suite\", overwrite_existing=True\n",
    ")\n",
    "validator = context.get_validator(\n",
    "    batch_request=batch_request, expectation_suite_name=\"test_suite\"\n",
    ")"
   ]
  },
  {
   "cell_type": "code",
   "execution_count": 8,
   "id": "79872462-37ff-4629-a1f9-746f0fe19596",
   "metadata": {
    "tags": []
   },
   "outputs": [
    {
     "data": {
      "application/vnd.jupyter.widget-view+json": {
       "model_id": "35ba35b6b00f47d687cef60caddbdf48",
       "version_major": 2,
       "version_minor": 0
      },
      "text/plain": [
       "Calculating Metrics:   0%|          | 0/2 [00:00<?, ?it/s]"
      ]
     },
     "metadata": {},
     "output_type": "display_data"
    },
    {
     "data": {
      "text/plain": [
       "{\n",
       "  \"exception_info\": {\n",
       "    \"raised_exception\": false,\n",
       "    \"exception_traceback\": null,\n",
       "    \"exception_message\": null\n",
       "  },\n",
       "  \"meta\": {},\n",
       "  \"success\": true,\n",
       "  \"result\": {}\n",
       "}"
      ]
     },
     "execution_count": 8,
     "metadata": {},
     "output_type": "execute_result"
    }
   ],
   "source": [
    "validator.expect_column_to_exist(\"close\")"
   ]
  },
  {
   "cell_type": "code",
   "execution_count": 11,
   "id": "6bb8f30d-250c-44b4-bb08-fc059629737a",
   "metadata": {
    "tags": []
   },
   "outputs": [
    {
     "data": {
      "application/vnd.jupyter.widget-view+json": {
       "model_id": "3ffda8fd3db44259992bcbf81e7659ae",
       "version_major": 2,
       "version_minor": 0
      },
      "text/plain": [
       "Calculating Metrics:   0%|          | 0/6 [00:00<?, ?it/s]"
      ]
     },
     "metadata": {},
     "output_type": "display_data"
    },
    {
     "ename": "MetricResolutionError",
     "evalue": "Column expression, FROM clause, or other columns clause element expected, got [<sqlalchemy.sql.elements.Label at 0x7f7564a33b10; table.row_count>]. Did you mean to say select(<sqlalchemy.sql.elements.Label at 0x7f7564a33b10; table.row_count>)?",
     "output_type": "error",
     "traceback": [
      "\u001b[0;31m---------------------------------------------------------------------------\u001b[0m",
      "\u001b[0;31mArgumentError\u001b[0m                             Traceback (most recent call last)",
      "File \u001b[0;32m/usr/local/lib/python3.11/site-packages/great_expectations/execution_engine/execution_engine.py:570\u001b[0m, in \u001b[0;36mExecutionEngine._process_direct_and_bundled_metric_computation_configurations\u001b[0;34m(self, metric_fn_direct_configurations, metric_fn_bundle_configurations)\u001b[0m\n\u001b[1;32m    566\u001b[0m \u001b[38;5;28;01mtry\u001b[39;00m:\n\u001b[1;32m    567\u001b[0m     \u001b[38;5;66;03m# an engine-specific way of computing metrics together\u001b[39;00m\n\u001b[1;32m    568\u001b[0m     resolved_metric_bundle: Dict[\n\u001b[1;32m    569\u001b[0m         Tuple[\u001b[38;5;28mstr\u001b[39m, \u001b[38;5;28mstr\u001b[39m, \u001b[38;5;28mstr\u001b[39m], MetricValue\n\u001b[0;32m--> 570\u001b[0m     ] \u001b[38;5;241m=\u001b[39m \u001b[38;5;28;43mself\u001b[39;49m\u001b[38;5;241;43m.\u001b[39;49m\u001b[43mresolve_metric_bundle\u001b[49m\u001b[43m(\u001b[49m\n\u001b[1;32m    571\u001b[0m \u001b[43m        \u001b[49m\u001b[43mmetric_fn_bundle\u001b[49m\u001b[38;5;241;43m=\u001b[39;49m\u001b[43mmetric_fn_bundle_configurations\u001b[49m\n\u001b[1;32m    572\u001b[0m \u001b[43m    \u001b[49m\u001b[43m)\u001b[49m\n\u001b[1;32m    573\u001b[0m     resolved_metrics\u001b[38;5;241m.\u001b[39mupdate(resolved_metric_bundle)\n",
      "File \u001b[0;32m/usr/local/lib/python3.11/site-packages/great_expectations/execution_engine/sqlalchemy_execution_engine.py:1036\u001b[0m, in \u001b[0;36mSqlAlchemyExecutionEngine.resolve_metric_bundle\u001b[0;34m(self, metric_fn_bundle)\u001b[0m\n\u001b[1;32m   1035\u001b[0m \u001b[38;5;28;01melse\u001b[39;00m:\n\u001b[0;32m-> 1036\u001b[0m     sa_query_object \u001b[38;5;241m=\u001b[39m \u001b[43msa\u001b[49m\u001b[38;5;241;43m.\u001b[39;49m\u001b[43mselect\u001b[49m\u001b[43m(\u001b[49m\u001b[43mquery\u001b[49m\u001b[43m[\u001b[49m\u001b[38;5;124;43m\"\u001b[39;49m\u001b[38;5;124;43mselect\u001b[39;49m\u001b[38;5;124;43m\"\u001b[39;49m\u001b[43m]\u001b[49m\u001b[43m)\u001b[49m\u001b[38;5;241m.\u001b[39mselect_from(selectable)\n\u001b[1;32m   1038\u001b[0m logger\u001b[38;5;241m.\u001b[39mdebug(\u001b[38;5;124mf\u001b[39m\u001b[38;5;124m\"\u001b[39m\u001b[38;5;124mAttempting query \u001b[39m\u001b[38;5;132;01m{\u001b[39;00m\u001b[38;5;28mstr\u001b[39m(sa_query_object)\u001b[38;5;132;01m}\u001b[39;00m\u001b[38;5;124m\"\u001b[39m)\n",
      "File \u001b[0;32m/usr/local/lib/python3.11/site-packages/sqlalchemy/sql/_selectable_constructors.py:493\u001b[0m, in \u001b[0;36mselect\u001b[0;34m(*entities, **__kw)\u001b[0m\n\u001b[1;32m    492\u001b[0m     \u001b[38;5;28;01mraise\u001b[39;00m _no_kw()\n\u001b[0;32m--> 493\u001b[0m \u001b[38;5;28;01mreturn\u001b[39;00m \u001b[43mSelect\u001b[49m\u001b[43m(\u001b[49m\u001b[38;5;241;43m*\u001b[39;49m\u001b[43mentities\u001b[49m\u001b[43m)\u001b[49m\n",
      "File \u001b[0;32m/usr/local/lib/python3.11/site-packages/sqlalchemy/sql/selectable.py:5160\u001b[0m, in \u001b[0;36mSelect.__init__\u001b[0;34m(self, *entities)\u001b[0m\n\u001b[1;32m   5154\u001b[0m \u001b[38;5;250m\u001b[39m\u001b[38;5;124mr\u001b[39m\u001b[38;5;124;03m\"\"\"Construct a new :class:`_expression.Select`.\u001b[39;00m\n\u001b[1;32m   5155\u001b[0m \n\u001b[1;32m   5156\u001b[0m \u001b[38;5;124;03mThe public constructor for :class:`_expression.Select` is the\u001b[39;00m\n\u001b[1;32m   5157\u001b[0m \u001b[38;5;124;03m:func:`_sql.select` function.\u001b[39;00m\n\u001b[1;32m   5158\u001b[0m \n\u001b[1;32m   5159\u001b[0m \u001b[38;5;124;03m\"\"\"\u001b[39;00m\n\u001b[0;32m-> 5160\u001b[0m \u001b[38;5;28mself\u001b[39m\u001b[38;5;241m.\u001b[39m_raw_columns \u001b[38;5;241m=\u001b[39m \u001b[43m[\u001b[49m\n\u001b[1;32m   5161\u001b[0m \u001b[43m    \u001b[49m\u001b[43mcoercions\u001b[49m\u001b[38;5;241;43m.\u001b[39;49m\u001b[43mexpect\u001b[49m\u001b[43m(\u001b[49m\n\u001b[1;32m   5162\u001b[0m \u001b[43m        \u001b[49m\u001b[43mroles\u001b[49m\u001b[38;5;241;43m.\u001b[39;49m\u001b[43mColumnsClauseRole\u001b[49m\u001b[43m,\u001b[49m\u001b[43m \u001b[49m\u001b[43ment\u001b[49m\u001b[43m,\u001b[49m\u001b[43m \u001b[49m\u001b[43mapply_propagate_attrs\u001b[49m\u001b[38;5;241;43m=\u001b[39;49m\u001b[38;5;28;43mself\u001b[39;49m\n\u001b[1;32m   5163\u001b[0m \u001b[43m    \u001b[49m\u001b[43m)\u001b[49m\n\u001b[1;32m   5164\u001b[0m \u001b[43m    \u001b[49m\u001b[38;5;28;43;01mfor\u001b[39;49;00m\u001b[43m \u001b[49m\u001b[43ment\u001b[49m\u001b[43m \u001b[49m\u001b[38;5;129;43;01min\u001b[39;49;00m\u001b[43m \u001b[49m\u001b[43mentities\u001b[49m\n\u001b[1;32m   5165\u001b[0m \u001b[43m\u001b[49m\u001b[43m]\u001b[49m\n\u001b[1;32m   5167\u001b[0m GenerativeSelect\u001b[38;5;241m.\u001b[39m\u001b[38;5;21m__init__\u001b[39m(\u001b[38;5;28mself\u001b[39m)\n",
      "File \u001b[0;32m/usr/local/lib/python3.11/site-packages/sqlalchemy/sql/selectable.py:5161\u001b[0m, in \u001b[0;36m<listcomp>\u001b[0;34m(.0)\u001b[0m\n\u001b[1;32m   5154\u001b[0m \u001b[38;5;250m\u001b[39m\u001b[38;5;124mr\u001b[39m\u001b[38;5;124;03m\"\"\"Construct a new :class:`_expression.Select`.\u001b[39;00m\n\u001b[1;32m   5155\u001b[0m \n\u001b[1;32m   5156\u001b[0m \u001b[38;5;124;03mThe public constructor for :class:`_expression.Select` is the\u001b[39;00m\n\u001b[1;32m   5157\u001b[0m \u001b[38;5;124;03m:func:`_sql.select` function.\u001b[39;00m\n\u001b[1;32m   5158\u001b[0m \n\u001b[1;32m   5159\u001b[0m \u001b[38;5;124;03m\"\"\"\u001b[39;00m\n\u001b[1;32m   5160\u001b[0m \u001b[38;5;28mself\u001b[39m\u001b[38;5;241m.\u001b[39m_raw_columns \u001b[38;5;241m=\u001b[39m [\n\u001b[0;32m-> 5161\u001b[0m     \u001b[43mcoercions\u001b[49m\u001b[38;5;241;43m.\u001b[39;49m\u001b[43mexpect\u001b[49m\u001b[43m(\u001b[49m\n\u001b[1;32m   5162\u001b[0m \u001b[43m        \u001b[49m\u001b[43mroles\u001b[49m\u001b[38;5;241;43m.\u001b[39;49m\u001b[43mColumnsClauseRole\u001b[49m\u001b[43m,\u001b[49m\u001b[43m \u001b[49m\u001b[43ment\u001b[49m\u001b[43m,\u001b[49m\u001b[43m \u001b[49m\u001b[43mapply_propagate_attrs\u001b[49m\u001b[38;5;241;43m=\u001b[39;49m\u001b[38;5;28;43mself\u001b[39;49m\n\u001b[1;32m   5163\u001b[0m \u001b[43m    \u001b[49m\u001b[43m)\u001b[49m\n\u001b[1;32m   5164\u001b[0m     \u001b[38;5;28;01mfor\u001b[39;00m ent \u001b[38;5;129;01min\u001b[39;00m entities\n\u001b[1;32m   5165\u001b[0m ]\n\u001b[1;32m   5167\u001b[0m GenerativeSelect\u001b[38;5;241m.\u001b[39m\u001b[38;5;21m__init__\u001b[39m(\u001b[38;5;28mself\u001b[39m)\n",
      "File \u001b[0;32m/usr/local/lib/python3.11/site-packages/sqlalchemy/sql/coercions.py:413\u001b[0m, in \u001b[0;36mexpect\u001b[0;34m(role, element, apply_propagate_attrs, argname, post_inspect, **kw)\u001b[0m\n\u001b[1;32m    412\u001b[0m     \u001b[38;5;28;01mif\u001b[39;00m resolved \u001b[38;5;129;01mis\u001b[39;00m \u001b[38;5;28;01mNone\u001b[39;00m:\n\u001b[0;32m--> 413\u001b[0m         resolved \u001b[38;5;241m=\u001b[39m \u001b[43mimpl\u001b[49m\u001b[38;5;241;43m.\u001b[39;49m\u001b[43m_literal_coercion\u001b[49m\u001b[43m(\u001b[49m\n\u001b[1;32m    414\u001b[0m \u001b[43m            \u001b[49m\u001b[43melement\u001b[49m\u001b[43m,\u001b[49m\u001b[43m \u001b[49m\u001b[43margname\u001b[49m\u001b[38;5;241;43m=\u001b[39;49m\u001b[43margname\u001b[49m\u001b[43m,\u001b[49m\u001b[43m \u001b[49m\u001b[38;5;241;43m*\u001b[39;49m\u001b[38;5;241;43m*\u001b[39;49m\u001b[43mkw\u001b[49m\n\u001b[1;32m    415\u001b[0m \u001b[43m        \u001b[49m\u001b[43m)\u001b[49m\n\u001b[1;32m    416\u001b[0m \u001b[38;5;28;01melse\u001b[39;00m:\n",
      "File \u001b[0;32m/usr/local/lib/python3.11/site-packages/sqlalchemy/sql/coercions.py:652\u001b[0m, in \u001b[0;36m_CoerceLiterals._literal_coercion\u001b[0;34m(self, element, argname, **kw)\u001b[0m\n\u001b[1;32m    650\u001b[0m     \u001b[38;5;28;01mreturn\u001b[39;00m elements\u001b[38;5;241m.\u001b[39mColumnClause(\u001b[38;5;28mstr\u001b[39m(element), is_literal\u001b[38;5;241m=\u001b[39m\u001b[38;5;28;01mTrue\u001b[39;00m)\n\u001b[0;32m--> 652\u001b[0m \u001b[38;5;28;43mself\u001b[39;49m\u001b[38;5;241;43m.\u001b[39;49m\u001b[43m_raise_for_expected\u001b[49m\u001b[43m(\u001b[49m\u001b[43melement\u001b[49m\u001b[43m,\u001b[49m\u001b[43m \u001b[49m\u001b[43margname\u001b[49m\u001b[43m)\u001b[49m\n",
      "File \u001b[0;32m/usr/local/lib/python3.11/site-packages/sqlalchemy/sql/coercions.py:1143\u001b[0m, in \u001b[0;36mColumnsClauseImpl._raise_for_expected\u001b[0;34m(self, element, argname, resolved, advice, **kw)\u001b[0m\n\u001b[1;32m   1138\u001b[0m     advice \u001b[38;5;241m=\u001b[39m (\n\u001b[1;32m   1139\u001b[0m         \u001b[38;5;124mf\u001b[39m\u001b[38;5;124m\"\u001b[39m\u001b[38;5;124mDid you mean to say select(\u001b[39m\u001b[38;5;124m\"\u001b[39m\n\u001b[1;32m   1140\u001b[0m         \u001b[38;5;124mf\u001b[39m\u001b[38;5;124m\"\u001b[39m\u001b[38;5;132;01m{\u001b[39;00m\u001b[38;5;124m'\u001b[39m\u001b[38;5;124m, \u001b[39m\u001b[38;5;124m'\u001b[39m\u001b[38;5;241m.\u001b[39mjoin(\u001b[38;5;28mrepr\u001b[39m(e)\u001b[38;5;250m \u001b[39m\u001b[38;5;28;01mfor\u001b[39;00m\u001b[38;5;250m \u001b[39me\u001b[38;5;250m \u001b[39m\u001b[38;5;129;01min\u001b[39;00m\u001b[38;5;250m \u001b[39melement)\u001b[38;5;132;01m}\u001b[39;00m\u001b[38;5;124m)?\u001b[39m\u001b[38;5;124m\"\u001b[39m\n\u001b[1;32m   1141\u001b[0m     )\n\u001b[0;32m-> 1143\u001b[0m \u001b[38;5;28;01mreturn\u001b[39;00m \u001b[38;5;28;43msuper\u001b[39;49m\u001b[43m(\u001b[49m\u001b[43m)\u001b[49m\u001b[38;5;241;43m.\u001b[39;49m\u001b[43m_raise_for_expected\u001b[49m\u001b[43m(\u001b[49m\n\u001b[1;32m   1144\u001b[0m \u001b[43m    \u001b[49m\u001b[43melement\u001b[49m\u001b[43m,\u001b[49m\u001b[43m \u001b[49m\u001b[43margname\u001b[49m\u001b[38;5;241;43m=\u001b[39;49m\u001b[43margname\u001b[49m\u001b[43m,\u001b[49m\u001b[43m \u001b[49m\u001b[43mresolved\u001b[49m\u001b[38;5;241;43m=\u001b[39;49m\u001b[43mresolved\u001b[49m\u001b[43m,\u001b[49m\u001b[43m \u001b[49m\u001b[43madvice\u001b[49m\u001b[38;5;241;43m=\u001b[39;49m\u001b[43madvice\u001b[49m\u001b[43m,\u001b[49m\u001b[43m \u001b[49m\u001b[38;5;241;43m*\u001b[39;49m\u001b[38;5;241;43m*\u001b[39;49m\u001b[43mkw\u001b[49m\n\u001b[1;32m   1145\u001b[0m \u001b[43m\u001b[49m\u001b[43m)\u001b[49m\n",
      "File \u001b[0;32m/usr/local/lib/python3.11/site-packages/sqlalchemy/sql/coercions.py:711\u001b[0m, in \u001b[0;36m_SelectIsNotFrom._raise_for_expected\u001b[0;34m(self, element, argname, resolved, advice, code, err, **kw)\u001b[0m\n\u001b[1;32m    709\u001b[0m     code \u001b[38;5;241m=\u001b[39m \u001b[38;5;28;01mNone\u001b[39;00m\n\u001b[0;32m--> 711\u001b[0m \u001b[38;5;28;43msuper\u001b[39;49m\u001b[43m(\u001b[49m\u001b[43m)\u001b[49m\u001b[38;5;241;43m.\u001b[39;49m\u001b[43m_raise_for_expected\u001b[49m\u001b[43m(\u001b[49m\n\u001b[1;32m    712\u001b[0m \u001b[43m    \u001b[49m\u001b[43melement\u001b[49m\u001b[43m,\u001b[49m\n\u001b[1;32m    713\u001b[0m \u001b[43m    \u001b[49m\u001b[43margname\u001b[49m\u001b[38;5;241;43m=\u001b[39;49m\u001b[43margname\u001b[49m\u001b[43m,\u001b[49m\n\u001b[1;32m    714\u001b[0m \u001b[43m    \u001b[49m\u001b[43mresolved\u001b[49m\u001b[38;5;241;43m=\u001b[39;49m\u001b[43mresolved\u001b[49m\u001b[43m,\u001b[49m\n\u001b[1;32m    715\u001b[0m \u001b[43m    \u001b[49m\u001b[43madvice\u001b[49m\u001b[38;5;241;43m=\u001b[39;49m\u001b[43madvice\u001b[49m\u001b[43m,\u001b[49m\n\u001b[1;32m    716\u001b[0m \u001b[43m    \u001b[49m\u001b[43mcode\u001b[49m\u001b[38;5;241;43m=\u001b[39;49m\u001b[43mcode\u001b[49m\u001b[43m,\u001b[49m\n\u001b[1;32m    717\u001b[0m \u001b[43m    \u001b[49m\u001b[43merr\u001b[49m\u001b[38;5;241;43m=\u001b[39;49m\u001b[43merr\u001b[49m\u001b[43m,\u001b[49m\n\u001b[1;32m    718\u001b[0m \u001b[43m    \u001b[49m\u001b[38;5;241;43m*\u001b[39;49m\u001b[38;5;241;43m*\u001b[39;49m\u001b[43mkw\u001b[49m\u001b[43m,\u001b[49m\n\u001b[1;32m    719\u001b[0m \u001b[43m\u001b[49m\u001b[43m)\u001b[49m\n\u001b[1;32m    720\u001b[0m \u001b[38;5;66;03m# never reached\u001b[39;00m\n",
      "File \u001b[0;32m/usr/local/lib/python3.11/site-packages/sqlalchemy/sql/coercions.py:536\u001b[0m, in \u001b[0;36mRoleImpl._raise_for_expected\u001b[0;34m(self, element, argname, resolved, advice, code, err, **kw)\u001b[0m\n\u001b[1;32m    534\u001b[0m     msg \u001b[38;5;241m+\u001b[39m\u001b[38;5;241m=\u001b[39m \u001b[38;5;124m\"\u001b[39m\u001b[38;5;124m \u001b[39m\u001b[38;5;124m\"\u001b[39m \u001b[38;5;241m+\u001b[39m advice\n\u001b[0;32m--> 536\u001b[0m \u001b[38;5;28;01mraise\u001b[39;00m exc\u001b[38;5;241m.\u001b[39mArgumentError(msg, code\u001b[38;5;241m=\u001b[39mcode) \u001b[38;5;28;01mfrom\u001b[39;00m \u001b[38;5;21;01merr\u001b[39;00m\n",
      "\u001b[0;31mArgumentError\u001b[0m: Column expression, FROM clause, or other columns clause element expected, got [<sqlalchemy.sql.elements.Label at 0x7f7564a33b10; table.row_count>]. Did you mean to say select(<sqlalchemy.sql.elements.Label at 0x7f7564a33b10; table.row_count>)?",
      "\nThe above exception was the direct cause of the following exception:\n",
      "\u001b[0;31mMetricResolutionError\u001b[0m                     Traceback (most recent call last)",
      "Cell \u001b[0;32mIn[11], line 1\u001b[0m\n\u001b[0;32m----> 1\u001b[0m \u001b[43mvalidator\u001b[49m\u001b[38;5;241;43m.\u001b[39;49m\u001b[43mexpect_column_min_to_be_between\u001b[49m\u001b[43m(\u001b[49m\u001b[38;5;124;43m\"\u001b[39;49m\u001b[38;5;124;43mclose\u001b[39;49m\u001b[38;5;124;43m\"\u001b[39;49m\u001b[43m,\u001b[49m\u001b[38;5;241;43m0\u001b[39;49m\u001b[43m,\u001b[49m\u001b[38;5;241;43m10\u001b[39;49m\u001b[43m)\u001b[49m\n",
      "File \u001b[0;32m/usr/local/lib/python3.11/site-packages/great_expectations/validator/validator.py:606\u001b[0m, in \u001b[0;36mValidator.validate_expectation.<locals>.inst_expectation\u001b[0;34m(*args, **kwargs)\u001b[0m\n\u001b[1;32m    600\u001b[0m         validation_result \u001b[38;5;241m=\u001b[39m ExpectationValidationResult(\n\u001b[1;32m    601\u001b[0m             success\u001b[38;5;241m=\u001b[39m\u001b[38;5;28;01mFalse\u001b[39;00m,\n\u001b[1;32m    602\u001b[0m             exception_info\u001b[38;5;241m=\u001b[39mexception_info,\n\u001b[1;32m    603\u001b[0m             expectation_config\u001b[38;5;241m=\u001b[39mconfiguration,\n\u001b[1;32m    604\u001b[0m         )\n\u001b[1;32m    605\u001b[0m     \u001b[38;5;28;01melse\u001b[39;00m:\n\u001b[0;32m--> 606\u001b[0m         \u001b[38;5;28;01mraise\u001b[39;00m err\n\u001b[1;32m    608\u001b[0m \u001b[38;5;28;01mif\u001b[39;00m \u001b[38;5;28mself\u001b[39m\u001b[38;5;241m.\u001b[39m_include_rendered_content:\n\u001b[1;32m    609\u001b[0m     validation_result\u001b[38;5;241m.\u001b[39mrender()\n",
      "File \u001b[0;32m/usr/local/lib/python3.11/site-packages/great_expectations/validator/validator.py:569\u001b[0m, in \u001b[0;36mValidator.validate_expectation.<locals>.inst_expectation\u001b[0;34m(*args, **kwargs)\u001b[0m\n\u001b[1;32m    565\u001b[0m     validation_result \u001b[38;5;241m=\u001b[39m ExpectationValidationResult(\n\u001b[1;32m    566\u001b[0m         expectation_config\u001b[38;5;241m=\u001b[39mcopy\u001b[38;5;241m.\u001b[39mdeepcopy(expectation\u001b[38;5;241m.\u001b[39mconfiguration)\n\u001b[1;32m    567\u001b[0m     )\n\u001b[1;32m    568\u001b[0m \u001b[38;5;28;01melse\u001b[39;00m:\n\u001b[0;32m--> 569\u001b[0m     validation_result \u001b[38;5;241m=\u001b[39m \u001b[43mexpectation\u001b[49m\u001b[38;5;241;43m.\u001b[39;49m\u001b[43mvalidate\u001b[49m\u001b[43m(\u001b[49m\n\u001b[1;32m    570\u001b[0m \u001b[43m        \u001b[49m\u001b[43mvalidator\u001b[49m\u001b[38;5;241;43m=\u001b[39;49m\u001b[38;5;28;43mself\u001b[39;49m\u001b[43m,\u001b[49m\n\u001b[1;32m    571\u001b[0m \u001b[43m        \u001b[49m\u001b[43mevaluation_parameters\u001b[49m\u001b[38;5;241;43m=\u001b[39;49m\u001b[38;5;28;43mself\u001b[39;49m\u001b[38;5;241;43m.\u001b[39;49m\u001b[43m_expectation_suite\u001b[49m\u001b[38;5;241;43m.\u001b[39;49m\u001b[43mevaluation_parameters\u001b[49m\u001b[43m,\u001b[49m\n\u001b[1;32m    572\u001b[0m \u001b[43m        \u001b[49m\u001b[43mdata_context\u001b[49m\u001b[38;5;241;43m=\u001b[39;49m\u001b[38;5;28;43mself\u001b[39;49m\u001b[38;5;241;43m.\u001b[39;49m\u001b[43m_data_context\u001b[49m\u001b[43m,\u001b[49m\n\u001b[1;32m    573\u001b[0m \u001b[43m        \u001b[49m\u001b[43mruntime_configuration\u001b[49m\u001b[38;5;241;43m=\u001b[39;49m\u001b[43mbasic_runtime_configuration\u001b[49m\u001b[43m,\u001b[49m\n\u001b[1;32m    574\u001b[0m \u001b[43m    \u001b[49m\u001b[43m)\u001b[49m\n\u001b[1;32m    576\u001b[0m \u001b[38;5;66;03m# If validate has set active_validation to true, then we do not save the config to avoid\u001b[39;00m\n\u001b[1;32m    577\u001b[0m \u001b[38;5;66;03m# saving updating expectation configs to the same suite during validation runs\u001b[39;00m\n\u001b[1;32m    578\u001b[0m \u001b[38;5;28;01mif\u001b[39;00m \u001b[38;5;28mself\u001b[39m\u001b[38;5;241m.\u001b[39m_active_validation \u001b[38;5;129;01mis\u001b[39;00m \u001b[38;5;28;01mTrue\u001b[39;00m:\n",
      "File \u001b[0;32m/usr/local/lib/python3.11/site-packages/great_expectations/expectations/expectation.py:1263\u001b[0m, in \u001b[0;36mExpectation.validate\u001b[0;34m(self, validator, configuration, evaluation_parameters, interactive_evaluation, data_context, runtime_configuration)\u001b[0m\n\u001b[1;32m   1254\u001b[0m \u001b[38;5;28mself\u001b[39m\u001b[38;5;241m.\u001b[39m_warn_if_result_format_config_in_expectation_configuration(\n\u001b[1;32m   1255\u001b[0m     configuration\u001b[38;5;241m=\u001b[39mconfiguration\n\u001b[1;32m   1256\u001b[0m )\n\u001b[1;32m   1258\u001b[0m configuration\u001b[38;5;241m.\u001b[39mprocess_evaluation_parameters(\n\u001b[1;32m   1259\u001b[0m     evaluation_parameters, interactive_evaluation, data_context\n\u001b[1;32m   1260\u001b[0m )\n\u001b[1;32m   1261\u001b[0m expectation_validation_result_list: \u001b[38;5;28mlist\u001b[39m[\n\u001b[1;32m   1262\u001b[0m     ExpectationValidationResult\n\u001b[0;32m-> 1263\u001b[0m ] \u001b[38;5;241m=\u001b[39m \u001b[43mvalidator\u001b[49m\u001b[38;5;241;43m.\u001b[39;49m\u001b[43mgraph_validate\u001b[49m\u001b[43m(\u001b[49m\n\u001b[1;32m   1264\u001b[0m \u001b[43m    \u001b[49m\u001b[43mconfigurations\u001b[49m\u001b[38;5;241;43m=\u001b[39;49m\u001b[43m[\u001b[49m\u001b[43mconfiguration\u001b[49m\u001b[43m]\u001b[49m\u001b[43m,\u001b[49m\n\u001b[1;32m   1265\u001b[0m \u001b[43m    \u001b[49m\u001b[43mruntime_configuration\u001b[49m\u001b[38;5;241;43m=\u001b[39;49m\u001b[43mruntime_configuration\u001b[49m\u001b[43m,\u001b[49m\n\u001b[1;32m   1266\u001b[0m \u001b[43m\u001b[49m\u001b[43m)\u001b[49m\n\u001b[1;32m   1267\u001b[0m \u001b[38;5;28;01mreturn\u001b[39;00m expectation_validation_result_list[\u001b[38;5;241m0\u001b[39m]\n",
      "File \u001b[0;32m/usr/local/lib/python3.11/site-packages/great_expectations/validator/validator.py:1057\u001b[0m, in \u001b[0;36mValidator.graph_validate\u001b[0;34m(self, configurations, runtime_configuration)\u001b[0m\n\u001b[1;32m   1055\u001b[0m         \u001b[38;5;28;01mreturn\u001b[39;00m evrs\n\u001b[1;32m   1056\u001b[0m     \u001b[38;5;28;01melse\u001b[39;00m:\n\u001b[0;32m-> 1057\u001b[0m         \u001b[38;5;28;01mraise\u001b[39;00m err\n\u001b[1;32m   1059\u001b[0m configuration: ExpectationConfiguration\n\u001b[1;32m   1060\u001b[0m result: ExpectationValidationResult\n",
      "File \u001b[0;32m/usr/local/lib/python3.11/site-packages/great_expectations/validator/validator.py:1036\u001b[0m, in \u001b[0;36mValidator.graph_validate\u001b[0;34m(self, configurations, runtime_configuration)\u001b[0m\n\u001b[1;32m   1029\u001b[0m resolved_metrics: Dict[Tuple[\u001b[38;5;28mstr\u001b[39m, \u001b[38;5;28mstr\u001b[39m, \u001b[38;5;28mstr\u001b[39m], MetricValue]\n\u001b[1;32m   1031\u001b[0m \u001b[38;5;28;01mtry\u001b[39;00m:\n\u001b[1;32m   1032\u001b[0m     (\n\u001b[1;32m   1033\u001b[0m         resolved_metrics,\n\u001b[1;32m   1034\u001b[0m         evrs,\n\u001b[1;32m   1035\u001b[0m         processed_configurations,\n\u001b[0;32m-> 1036\u001b[0m     ) \u001b[38;5;241m=\u001b[39m \u001b[38;5;28;43mself\u001b[39;49m\u001b[38;5;241;43m.\u001b[39;49m\u001b[43m_resolve_suite_level_graph_and_process_metric_evaluation_errors\u001b[49m\u001b[43m(\u001b[49m\n\u001b[1;32m   1037\u001b[0m \u001b[43m        \u001b[49m\u001b[43mgraph\u001b[49m\u001b[38;5;241;43m=\u001b[39;49m\u001b[43mgraph\u001b[49m\u001b[43m,\u001b[49m\n\u001b[1;32m   1038\u001b[0m \u001b[43m        \u001b[49m\u001b[43mruntime_configuration\u001b[49m\u001b[38;5;241;43m=\u001b[39;49m\u001b[43mruntime_configuration\u001b[49m\u001b[43m,\u001b[49m\n\u001b[1;32m   1039\u001b[0m \u001b[43m        \u001b[49m\u001b[43mexpectation_validation_graphs\u001b[49m\u001b[38;5;241;43m=\u001b[39;49m\u001b[43mexpectation_validation_graphs\u001b[49m\u001b[43m,\u001b[49m\n\u001b[1;32m   1040\u001b[0m \u001b[43m        \u001b[49m\u001b[43mevrs\u001b[49m\u001b[38;5;241;43m=\u001b[39;49m\u001b[43mevrs\u001b[49m\u001b[43m,\u001b[49m\n\u001b[1;32m   1041\u001b[0m \u001b[43m        \u001b[49m\u001b[43mprocessed_configurations\u001b[49m\u001b[38;5;241;43m=\u001b[39;49m\u001b[43mprocessed_configurations\u001b[49m\u001b[43m,\u001b[49m\n\u001b[1;32m   1042\u001b[0m \u001b[43m        \u001b[49m\u001b[43mshow_progress_bars\u001b[49m\u001b[38;5;241;43m=\u001b[39;49m\u001b[38;5;28;43mself\u001b[39;49m\u001b[38;5;241;43m.\u001b[39;49m\u001b[43m_determine_progress_bars\u001b[49m\u001b[43m(\u001b[49m\u001b[43m)\u001b[49m\u001b[43m,\u001b[49m\n\u001b[1;32m   1043\u001b[0m \u001b[43m    \u001b[49m\u001b[43m)\u001b[49m\n\u001b[1;32m   1044\u001b[0m \u001b[38;5;28;01mexcept\u001b[39;00m \u001b[38;5;167;01mException\u001b[39;00m \u001b[38;5;28;01mas\u001b[39;00m err:\n\u001b[1;32m   1045\u001b[0m     \u001b[38;5;66;03m# If a general Exception occurs during the execution of \"ValidationGraph.resolve()\", then\u001b[39;00m\n\u001b[1;32m   1046\u001b[0m     \u001b[38;5;66;03m# all expectations in the suite are impacted, because it is impossible to attribute the failure to a metric.\u001b[39;00m\n\u001b[1;32m   1047\u001b[0m     \u001b[38;5;28;01mif\u001b[39;00m catch_exceptions:\n",
      "File \u001b[0;32m/usr/local/lib/python3.11/site-packages/great_expectations/validator/validator.py:1195\u001b[0m, in \u001b[0;36mValidator._resolve_suite_level_graph_and_process_metric_evaluation_errors\u001b[0;34m(self, graph, runtime_configuration, expectation_validation_graphs, evrs, processed_configurations, show_progress_bars)\u001b[0m\n\u001b[1;32m   1187\u001b[0m resolved_metrics: Dict[Tuple[\u001b[38;5;28mstr\u001b[39m, \u001b[38;5;28mstr\u001b[39m, \u001b[38;5;28mstr\u001b[39m], MetricValue]\n\u001b[1;32m   1188\u001b[0m aborted_metrics_info: Dict[\n\u001b[1;32m   1189\u001b[0m     Tuple[\u001b[38;5;28mstr\u001b[39m, \u001b[38;5;28mstr\u001b[39m, \u001b[38;5;28mstr\u001b[39m],\n\u001b[1;32m   1190\u001b[0m     Dict[\u001b[38;5;28mstr\u001b[39m, Union[MetricConfiguration, Set[ExceptionInfo], \u001b[38;5;28mint\u001b[39m]],\n\u001b[1;32m   1191\u001b[0m ]\n\u001b[1;32m   1192\u001b[0m (\n\u001b[1;32m   1193\u001b[0m     resolved_metrics,\n\u001b[1;32m   1194\u001b[0m     aborted_metrics_info,\n\u001b[0;32m-> 1195\u001b[0m ) \u001b[38;5;241m=\u001b[39m \u001b[38;5;28;43mself\u001b[39;49m\u001b[38;5;241;43m.\u001b[39;49m\u001b[43m_metrics_calculator\u001b[49m\u001b[38;5;241;43m.\u001b[39;49m\u001b[43mresolve_validation_graph\u001b[49m\u001b[43m(\u001b[49m\n\u001b[1;32m   1196\u001b[0m \u001b[43m    \u001b[49m\u001b[43mgraph\u001b[49m\u001b[38;5;241;43m=\u001b[39;49m\u001b[43mgraph\u001b[49m\u001b[43m,\u001b[49m\n\u001b[1;32m   1197\u001b[0m \u001b[43m    \u001b[49m\u001b[43mruntime_configuration\u001b[49m\u001b[38;5;241;43m=\u001b[39;49m\u001b[43mruntime_configuration\u001b[49m\u001b[43m,\u001b[49m\n\u001b[1;32m   1198\u001b[0m \u001b[43m    \u001b[49m\u001b[43mmin_graph_edges_pbar_enable\u001b[49m\u001b[38;5;241;43m=\u001b[39;49m\u001b[38;5;241;43m0\u001b[39;49m\u001b[43m,\u001b[49m\n\u001b[1;32m   1199\u001b[0m \u001b[43m\u001b[49m\u001b[43m)\u001b[49m\n\u001b[1;32m   1201\u001b[0m \u001b[38;5;66;03m# Trace MetricResolutionError occurrences to expectations relying on corresponding malfunctioning metrics.\u001b[39;00m\n\u001b[1;32m   1202\u001b[0m rejected_configurations: List[ExpectationConfiguration] \u001b[38;5;241m=\u001b[39m []\n",
      "File \u001b[0;32m/usr/local/lib/python3.11/site-packages/great_expectations/validator/metrics_calculator.py:268\u001b[0m, in \u001b[0;36mMetricsCalculator.resolve_validation_graph\u001b[0;34m(self, graph, runtime_configuration, min_graph_edges_pbar_enable)\u001b[0m\n\u001b[1;32m    263\u001b[0m resolved_metrics: Dict[Tuple[\u001b[38;5;28mstr\u001b[39m, \u001b[38;5;28mstr\u001b[39m, \u001b[38;5;28mstr\u001b[39m], MetricValue]\n\u001b[1;32m    264\u001b[0m aborted_metrics_info: Dict[\n\u001b[1;32m    265\u001b[0m     Tuple[\u001b[38;5;28mstr\u001b[39m, \u001b[38;5;28mstr\u001b[39m, \u001b[38;5;28mstr\u001b[39m],\n\u001b[1;32m    266\u001b[0m     Dict[\u001b[38;5;28mstr\u001b[39m, Union[MetricConfiguration, Set[ExceptionInfo], \u001b[38;5;28mint\u001b[39m]],\n\u001b[1;32m    267\u001b[0m ]\n\u001b[0;32m--> 268\u001b[0m resolved_metrics, aborted_metrics_info \u001b[38;5;241m=\u001b[39m \u001b[43mgraph\u001b[49m\u001b[38;5;241;43m.\u001b[39;49m\u001b[43mresolve\u001b[49m\u001b[43m(\u001b[49m\n\u001b[1;32m    269\u001b[0m \u001b[43m    \u001b[49m\u001b[43mruntime_configuration\u001b[49m\u001b[38;5;241;43m=\u001b[39;49m\u001b[43mruntime_configuration\u001b[49m\u001b[43m,\u001b[49m\n\u001b[1;32m    270\u001b[0m \u001b[43m    \u001b[49m\u001b[43mmin_graph_edges_pbar_enable\u001b[49m\u001b[38;5;241;43m=\u001b[39;49m\u001b[43mmin_graph_edges_pbar_enable\u001b[49m\u001b[43m,\u001b[49m\n\u001b[1;32m    271\u001b[0m \u001b[43m    \u001b[49m\u001b[43mshow_progress_bars\u001b[49m\u001b[38;5;241;43m=\u001b[39;49m\u001b[38;5;28;43mself\u001b[39;49m\u001b[38;5;241;43m.\u001b[39;49m\u001b[43m_show_progress_bars\u001b[49m\u001b[43m,\u001b[49m\n\u001b[1;32m    272\u001b[0m \u001b[43m\u001b[49m\u001b[43m)\u001b[49m\n\u001b[1;32m    273\u001b[0m \u001b[38;5;28;01mreturn\u001b[39;00m resolved_metrics, aborted_metrics_info\n",
      "File \u001b[0;32m/usr/local/lib/python3.11/site-packages/great_expectations/validator/validation_graph.py:200\u001b[0m, in \u001b[0;36mValidationGraph.resolve\u001b[0;34m(self, runtime_configuration, min_graph_edges_pbar_enable, show_progress_bars)\u001b[0m\n\u001b[1;32m    194\u001b[0m resolved_metrics: Dict[Tuple[\u001b[38;5;28mstr\u001b[39m, \u001b[38;5;28mstr\u001b[39m, \u001b[38;5;28mstr\u001b[39m], MetricValue] \u001b[38;5;241m=\u001b[39m {}\n\u001b[1;32m    196\u001b[0m \u001b[38;5;66;03m# updates graph with aborted metrics\u001b[39;00m\n\u001b[1;32m    197\u001b[0m aborted_metrics_info: Dict[\n\u001b[1;32m    198\u001b[0m     Tuple[\u001b[38;5;28mstr\u001b[39m, \u001b[38;5;28mstr\u001b[39m, \u001b[38;5;28mstr\u001b[39m],\n\u001b[1;32m    199\u001b[0m     Dict[\u001b[38;5;28mstr\u001b[39m, Union[MetricConfiguration, Set[ExceptionInfo], \u001b[38;5;28mint\u001b[39m]],\n\u001b[0;32m--> 200\u001b[0m ] \u001b[38;5;241m=\u001b[39m \u001b[38;5;28;43mself\u001b[39;49m\u001b[38;5;241;43m.\u001b[39;49m\u001b[43m_resolve\u001b[49m\u001b[43m(\u001b[49m\n\u001b[1;32m    201\u001b[0m \u001b[43m    \u001b[49m\u001b[43mmetrics\u001b[49m\u001b[38;5;241;43m=\u001b[39;49m\u001b[43mresolved_metrics\u001b[49m\u001b[43m,\u001b[49m\n\u001b[1;32m    202\u001b[0m \u001b[43m    \u001b[49m\u001b[43mruntime_configuration\u001b[49m\u001b[38;5;241;43m=\u001b[39;49m\u001b[43mruntime_configuration\u001b[49m\u001b[43m,\u001b[49m\n\u001b[1;32m    203\u001b[0m \u001b[43m    \u001b[49m\u001b[43mmin_graph_edges_pbar_enable\u001b[49m\u001b[38;5;241;43m=\u001b[39;49m\u001b[43mmin_graph_edges_pbar_enable\u001b[49m\u001b[43m,\u001b[49m\n\u001b[1;32m    204\u001b[0m \u001b[43m    \u001b[49m\u001b[43mshow_progress_bars\u001b[49m\u001b[38;5;241;43m=\u001b[39;49m\u001b[43mshow_progress_bars\u001b[49m\u001b[43m,\u001b[49m\n\u001b[1;32m    205\u001b[0m \u001b[43m\u001b[49m\u001b[43m)\u001b[49m\n\u001b[1;32m    207\u001b[0m \u001b[38;5;28;01mreturn\u001b[39;00m resolved_metrics, aborted_metrics_info\n",
      "File \u001b[0;32m/usr/local/lib/python3.11/site-packages/great_expectations/validator/validation_graph.py:306\u001b[0m, in \u001b[0;36mValidationGraph._resolve\u001b[0;34m(self, metrics, runtime_configuration, min_graph_edges_pbar_enable, show_progress_bars)\u001b[0m\n\u001b[1;32m    302\u001b[0m                 failed_metric_info[failed_metric\u001b[38;5;241m.\u001b[39mid][\u001b[38;5;124m\"\u001b[39m\u001b[38;5;124mexception_info\u001b[39m\u001b[38;5;124m\"\u001b[39m] \u001b[38;5;241m=\u001b[39m {\n\u001b[1;32m    303\u001b[0m                     exception_info\n\u001b[1;32m    304\u001b[0m                 }\n\u001b[1;32m    305\u001b[0m     \u001b[38;5;28;01melse\u001b[39;00m:\n\u001b[0;32m--> 306\u001b[0m         \u001b[38;5;28;01mraise\u001b[39;00m err\n\u001b[1;32m    307\u001b[0m \u001b[38;5;28;01mexcept\u001b[39;00m \u001b[38;5;167;01mException\u001b[39;00m \u001b[38;5;28;01mas\u001b[39;00m e:\n\u001b[1;32m    308\u001b[0m     \u001b[38;5;28;01mif\u001b[39;00m catch_exceptions:\n",
      "File \u001b[0;32m/usr/local/lib/python3.11/site-packages/great_expectations/validator/validation_graph.py:276\u001b[0m, in \u001b[0;36mValidationGraph._resolve\u001b[0;34m(self, metrics, runtime_configuration, min_graph_edges_pbar_enable, show_progress_bars)\u001b[0m\n\u001b[1;32m    271\u001b[0m         computable_metrics\u001b[38;5;241m.\u001b[39madd(metric)\n\u001b[1;32m    273\u001b[0m \u001b[38;5;28;01mtry\u001b[39;00m:\n\u001b[1;32m    274\u001b[0m     \u001b[38;5;66;03m# Access \"ExecutionEngine.resolve_metrics()\" method, to resolve missing \"MetricConfiguration\" objects.\u001b[39;00m\n\u001b[1;32m    275\u001b[0m     metrics\u001b[38;5;241m.\u001b[39mupdate(\n\u001b[0;32m--> 276\u001b[0m         \u001b[38;5;28;43mself\u001b[39;49m\u001b[38;5;241;43m.\u001b[39;49m\u001b[43m_execution_engine\u001b[49m\u001b[38;5;241;43m.\u001b[39;49m\u001b[43mresolve_metrics\u001b[49m\u001b[43m(\u001b[49m\n\u001b[1;32m    277\u001b[0m \u001b[43m            \u001b[49m\u001b[43mmetrics_to_resolve\u001b[49m\u001b[38;5;241;43m=\u001b[39;49m\u001b[43mcomputable_metrics\u001b[49m\u001b[43m,\u001b[49m\n\u001b[1;32m    278\u001b[0m \u001b[43m            \u001b[49m\u001b[43mmetrics\u001b[49m\u001b[38;5;241;43m=\u001b[39;49m\u001b[43mmetrics\u001b[49m\u001b[43m,\u001b[49m\n\u001b[1;32m    279\u001b[0m \u001b[43m            \u001b[49m\u001b[43mruntime_configuration\u001b[49m\u001b[38;5;241;43m=\u001b[39;49m\u001b[43mruntime_configuration\u001b[49m\u001b[43m,\u001b[49m\n\u001b[1;32m    280\u001b[0m \u001b[43m        \u001b[49m\u001b[43m)\u001b[49m\n\u001b[1;32m    281\u001b[0m     )\n\u001b[1;32m    282\u001b[0m     progress_bar\u001b[38;5;241m.\u001b[39mupdate(\u001b[38;5;28mlen\u001b[39m(computable_metrics))\n\u001b[1;32m    283\u001b[0m     progress_bar\u001b[38;5;241m.\u001b[39mrefresh()\n",
      "File \u001b[0;32m/usr/local/lib/python3.11/site-packages/great_expectations/execution_engine/execution_engine.py:290\u001b[0m, in \u001b[0;36mExecutionEngine.resolve_metrics\u001b[0;34m(self, metrics_to_resolve, metrics, runtime_configuration)\u001b[0m\n\u001b[1;32m    281\u001b[0m metric_fn_bundle_configurations: List[MetricComputationConfiguration]\n\u001b[1;32m    282\u001b[0m (\n\u001b[1;32m    283\u001b[0m     metric_fn_direct_configurations,\n\u001b[1;32m    284\u001b[0m     metric_fn_bundle_configurations,\n\u001b[0;32m   (...)\u001b[0m\n\u001b[1;32m    288\u001b[0m     runtime_configuration\u001b[38;5;241m=\u001b[39mruntime_configuration,\n\u001b[1;32m    289\u001b[0m )\n\u001b[0;32m--> 290\u001b[0m \u001b[38;5;28;01mreturn\u001b[39;00m \u001b[38;5;28;43mself\u001b[39;49m\u001b[38;5;241;43m.\u001b[39;49m\u001b[43m_process_direct_and_bundled_metric_computation_configurations\u001b[49m\u001b[43m(\u001b[49m\n\u001b[1;32m    291\u001b[0m \u001b[43m    \u001b[49m\u001b[43mmetric_fn_direct_configurations\u001b[49m\u001b[38;5;241;43m=\u001b[39;49m\u001b[43mmetric_fn_direct_configurations\u001b[49m\u001b[43m,\u001b[49m\n\u001b[1;32m    292\u001b[0m \u001b[43m    \u001b[49m\u001b[43mmetric_fn_bundle_configurations\u001b[49m\u001b[38;5;241;43m=\u001b[39;49m\u001b[43mmetric_fn_bundle_configurations\u001b[49m\u001b[43m,\u001b[49m\n\u001b[1;32m    293\u001b[0m \u001b[43m\u001b[49m\u001b[43m)\u001b[49m\n",
      "File \u001b[0;32m/usr/local/lib/python3.11/site-packages/great_expectations/execution_engine/execution_engine.py:575\u001b[0m, in \u001b[0;36mExecutionEngine._process_direct_and_bundled_metric_computation_configurations\u001b[0;34m(self, metric_fn_direct_configurations, metric_fn_bundle_configurations)\u001b[0m\n\u001b[1;32m    573\u001b[0m     resolved_metrics\u001b[38;5;241m.\u001b[39mupdate(resolved_metric_bundle)\n\u001b[1;32m    574\u001b[0m \u001b[38;5;28;01mexcept\u001b[39;00m \u001b[38;5;167;01mException\u001b[39;00m \u001b[38;5;28;01mas\u001b[39;00m e:\n\u001b[0;32m--> 575\u001b[0m     \u001b[38;5;28;01mraise\u001b[39;00m gx_exceptions\u001b[38;5;241m.\u001b[39mMetricResolutionError(\n\u001b[1;32m    576\u001b[0m         message\u001b[38;5;241m=\u001b[39m\u001b[38;5;28mstr\u001b[39m(e),\n\u001b[1;32m    577\u001b[0m         failed_metrics\u001b[38;5;241m=\u001b[39m[\n\u001b[1;32m    578\u001b[0m             metric_computation_configuration\u001b[38;5;241m.\u001b[39mmetric_configuration\n\u001b[1;32m    579\u001b[0m             \u001b[38;5;28;01mfor\u001b[39;00m metric_computation_configuration \u001b[38;5;129;01min\u001b[39;00m metric_fn_bundle_configurations\n\u001b[1;32m    580\u001b[0m         ],\n\u001b[1;32m    581\u001b[0m     ) \u001b[38;5;28;01mfrom\u001b[39;00m \u001b[38;5;21;01me\u001b[39;00m\n\u001b[1;32m    583\u001b[0m \u001b[38;5;28;01mif\u001b[39;00m \u001b[38;5;28mself\u001b[39m\u001b[38;5;241m.\u001b[39m_caching:\n\u001b[1;32m    584\u001b[0m     \u001b[38;5;28mself\u001b[39m\u001b[38;5;241m.\u001b[39m_metric_cache\u001b[38;5;241m.\u001b[39mupdate(resolved_metrics)\n",
      "\u001b[0;31mMetricResolutionError\u001b[0m: Column expression, FROM clause, or other columns clause element expected, got [<sqlalchemy.sql.elements.Label at 0x7f7564a33b10; table.row_count>]. Did you mean to say select(<sqlalchemy.sql.elements.Label at 0x7f7564a33b10; table.row_count>)?"
     ]
    }
   ],
   "source": [
    "validator.expect_column_min_to_be_between(\"close\",0)"
   ]
  },
  {
   "cell_type": "code",
   "execution_count": null,
   "id": "0055f608-cf5f-4e80-9630-1cfb18c54c0b",
   "metadata": {},
   "outputs": [],
   "source": []
  }
 ],
 "metadata": {
  "kernelspec": {
   "display_name": "Python 3 (ipykernel)",
   "language": "python",
   "name": "python3"
  },
  "language_info": {
   "codemirror_mode": {
    "name": "ipython",
    "version": 3
   },
   "file_extension": ".py",
   "mimetype": "text/x-python",
   "name": "python",
   "nbconvert_exporter": "python",
   "pygments_lexer": "ipython3",
   "version": "3.11.0"
  }
 },
 "nbformat": 4,
 "nbformat_minor": 5
}
